{
 "metadata": {
  "language_info": {
   "codemirror_mode": {
    "name": "ipython",
    "version": 3
   },
   "file_extension": ".py",
   "mimetype": "text/x-python",
   "name": "python",
   "nbconvert_exporter": "python",
   "pygments_lexer": "ipython3",
   "version": "3.8.2"
  },
  "orig_nbformat": 2,
  "kernelspec": {
   "name": "datascience",
   "display_name": "datascience",
   "language": "python"
  }
 },
 "nbformat": 4,
 "nbformat_minor": 2,
 "cells": [
  {
   "cell_type": "code",
   "execution_count": null,
   "metadata": {},
   "outputs": [],
   "source": [
    "import pandas as pd\n",
    "\n",
    "bashoneliners = pd.read_csv('data_filtered/bashoneliners_top25_filtered.csv', names = ['Post', 'Title', 'Oneliner'])\n",
    "commandlinefu = pd.read_csv('data_filtered/commandlinefu_top25_filtered.csv', names = ['Post', 'Title', 'Oneliner'])\n",
    "stackoverflow = pd.read_csv('data_filtered/stackoverflow_top30.txt', names = ['Post'])\n",
    "superuser = pd.read_csv('data_filtered/superuser_top30.txt', names = ['Post'])\n",
    "unixlinux = pd.read_csv('data_filtered/unixlinux_top30.txt', names = ['Post'])\n",
    "\n",
    "frames = [bashoneliners.head(25), commandlinefu.head(25), stackoverflow.head(25), superuser.head(25), unixlinux.head(25)]\n",
    "\n",
    "df = pd.concat(frames, ignore_index=True)"
   ]
  },
  {
   "cell_type": "code",
   "execution_count": null,
   "metadata": {},
   "outputs": [],
   "source": [
    "sampled_posts = df.sample(16, random_state=42)\n",
    "sampled_posts"
   ]
  },
  {
   "cell_type": "code",
   "execution_count": null,
   "metadata": {},
   "outputs": [],
   "source": [
    "#sampled_posts.to_csv('taskset/sampled_posts.csv', index=False)"
   ]
  },
  {
   "source": [
    "### Resampled posts\n",
    "We need to resample four because previous sampled posts have two one liners containing either `kill`, `watch`, `man`, `wget` which are difficult to test in a controlled experiment."
   ],
   "cell_type": "markdown",
   "metadata": {}
  },
  {
   "cell_type": "code",
   "execution_count": null,
   "metadata": {},
   "outputs": [],
   "source": [
    "# Resampling based on environment independant commands / tasks\n",
    "print(df.sample(1, random_state=1).iloc[0].Post)\n",
    "print(df.sample(2, random_state=5).iloc[1].Post)\n",
    "print(df.sample(1, random_state=29).iloc[0].Post)\n",
    "print(df.sample(1, random_state=845).iloc[0].Post)"
   ]
  }
 ]
}